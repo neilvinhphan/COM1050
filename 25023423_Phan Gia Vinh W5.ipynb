{
 "cells": [
  {
   "cell_type": "markdown",
   "id": "2480e089",
   "metadata": {},
   "source": [
    "# W3A2"
   ]
  },
  {
   "cell_type": "code",
   "execution_count": 53,
   "id": "7dc39620",
   "metadata": {},
   "outputs": [
    {
     "name": "stdout",
     "output_type": "stream",
     "text": [
      "2 1\n"
     ]
    }
   ],
   "source": [
    "a, b = map(int, input(\"Enter a b: \").split())\n",
    "\n",
    "a = a ^ b\n",
    "b = a ^ b\n",
    "a = a ^ b\n",
    "\n",
    "print(a, b)"
   ]
  },
  {
   "cell_type": "markdown",
   "id": "7408cd54",
   "metadata": {},
   "source": [
    "# W3A3"
   ]
  },
  {
   "cell_type": "code",
   "execution_count": 57,
   "id": "1d86b8ec",
   "metadata": {},
   "outputs": [
    {
     "name": "stdout",
     "output_type": "stream",
     "text": [
      "Co\n"
     ]
    }
   ],
   "source": [
    "n = int(input(\"Enter n: \"))\n",
    "\n",
    "if n & (n-1) == 0:\n",
    "    print(\"Co\")\n",
    "else:\n",
    "    print(\"Khong\")"
   ]
  },
  {
   "cell_type": "markdown",
   "id": "a35701e4",
   "metadata": {},
   "source": [
    "# W3A4"
   ]
  },
  {
   "cell_type": "code",
   "execution_count": null,
   "id": "62a7d4f3",
   "metadata": {},
   "outputs": [
    {
     "name": "stdout",
     "output_type": "stream",
     "text": [
      "0.56\n",
      "0\n"
     ]
    }
   ],
   "source": [
    "m, n = map(int, input(\"Enter m n: \").split())\n",
    "print((m/n)//1)"
   ]
  },
  {
   "cell_type": "markdown",
   "id": "5e94acb3",
   "metadata": {},
   "source": [
    "# W3A5"
   ]
  },
  {
   "cell_type": "code",
   "execution_count": null,
   "id": "9e6be2b1",
   "metadata": {},
   "outputs": [
    {
     "name": "stdout",
     "output_type": "stream",
     "text": [
      "0.6\n"
     ]
    }
   ],
   "source": [
    "m, n = map(int, input(\"Enter m n: \").split())\n",
    "print(round(m/n,1))"
   ]
  },
  {
   "cell_type": "markdown",
   "id": "c5532619",
   "metadata": {},
   "source": [
    "# W3A6"
   ]
  },
  {
   "cell_type": "code",
   "execution_count": null,
   "id": "131bf578",
   "metadata": {},
   "outputs": [
    {
     "name": "stdout",
     "output_type": "stream",
     "text": [
      "Odd\n"
     ]
    }
   ],
   "source": [
    "x = 0\n",
    "while x <= 0:\n",
    "    x = int(input(\"Enter x: \"))\n",
    "\n",
    "if x % 2 == 0:\n",
    "    print(\"Even\")\n",
    "else:\n",
    "    print(\"Odd\")"
   ]
  },
  {
   "cell_type": "markdown",
   "id": "d161cbe8",
   "metadata": {},
   "source": [
    "# W3A7"
   ]
  },
  {
   "cell_type": "code",
   "execution_count": null,
   "id": "da45874f",
   "metadata": {},
   "outputs": [
    {
     "name": "stdout",
     "output_type": "stream",
     "text": [
      "No\n"
     ]
    }
   ],
   "source": [
    "a, b = map(int, input(\"Enter a b: \").split())\n",
    "\n",
    "if a < 0 and b < 0:\n",
    "    print(\"Yes\")\n",
    "elif a > 0 and b > 0:\n",
    "    print(\"No\")"
   ]
  },
  {
   "cell_type": "markdown",
   "id": "8ce1e349",
   "metadata": {},
   "source": [
    "# W3A8"
   ]
  },
  {
   "cell_type": "code",
   "execution_count": null,
   "id": "18c65a83",
   "metadata": {},
   "outputs": [
    {
     "name": "stdout",
     "output_type": "stream",
     "text": [
      "False\n"
     ]
    }
   ],
   "source": [
    "a = input(\"Enter the first string: \")\n",
    "b = input(\"Enter the second string: \")\n",
    "\n",
    "if len(a) > len(b):\n",
    "    print(\"True\")\n",
    "elif len(a) < len(b):\n",
    "    print(\"False\")"
   ]
  },
  {
   "cell_type": "markdown",
   "id": "e9a1b719",
   "metadata": {},
   "source": [
    "# W3A9"
   ]
  },
  {
   "cell_type": "code",
   "execution_count": null,
   "id": "da8759ec",
   "metadata": {},
   "outputs": [
    {
     "name": "stdout",
     "output_type": "stream",
     "text": [
      "True\n"
     ]
    }
   ],
   "source": [
    "a, b, c = map(int, input(\"Enter a b c: \").split())\n",
    "\n",
    "if (a+b)>c and (b+c)>a and (a+c)>b:\n",
    "    print(\"True\")\n",
    "else:\n",
    "    print(\"False\")"
   ]
  },
  {
   "cell_type": "markdown",
   "id": "9d4e6245",
   "metadata": {},
   "source": [
    "# W3A10"
   ]
  },
  {
   "cell_type": "code",
   "execution_count": null,
   "id": "1204844a",
   "metadata": {},
   "outputs": [
    {
     "name": "stdout",
     "output_type": "stream",
     "text": [
      "4\n"
     ]
    }
   ],
   "source": [
    "numbers = list(map(int, input(\"Enter 4 numbers: \").split()))\n",
    "largest = numbers[0]\n",
    "for i in numbers:\n",
    "    if i > largest:\n",
    "        largest = i\n",
    "\n",
    "print(largest)"
   ]
  },
  {
   "cell_type": "markdown",
   "id": "b83cfbaf",
   "metadata": {},
   "source": [
    "# W3A11"
   ]
  },
  {
   "cell_type": "code",
   "execution_count": null,
   "id": "2108c345",
   "metadata": {},
   "outputs": [
    {
     "name": "stdout",
     "output_type": "stream",
     "text": [
      "Tam giac can\n"
     ]
    }
   ],
   "source": [
    "a, b, c = map(int, input(\"Enter a b c: \").split())\n",
    "\n",
    "if (a+b)>c and (b+c)>a and (a+c)>b:\n",
    "    if a == b == c:\n",
    "        print(\"Tam giac deu\")\n",
    "    elif a == b or a == c or b == c:\n",
    "        print(\"Tam giac can\")\n",
    "    else:\n",
    "        print(\"Tam giac thuong\")\n",
    "else:\n",
    "    print(\"Khong phai tam giac\")"
   ]
  },
  {
   "cell_type": "markdown",
   "id": "39df27e2",
   "metadata": {},
   "source": [
    "# W3A12"
   ]
  },
  {
   "cell_type": "code",
   "execution_count": null,
   "id": "66f2e923",
   "metadata": {},
   "outputs": [
    {
     "name": "stdout",
     "output_type": "stream",
     "text": [
      "No\n"
     ]
    }
   ],
   "source": [
    "n = int(input(\"Enter the year: \"))\n",
    "\n",
    "if (n % 4 == 0 and n % 100 != 0) or n % 400 == 0:\n",
    "    print(\"Yes\")\n",
    "else: \n",
    "    print(\"No\")"
   ]
  },
  {
   "cell_type": "markdown",
   "id": "89353315",
   "metadata": {},
   "source": [
    "# W3A14"
   ]
  },
  {
   "cell_type": "code",
   "execution_count": null,
   "id": "c8463b3f",
   "metadata": {},
   "outputs": [
    {
     "name": "stdout",
     "output_type": "stream",
     "text": [
      "Vo nghiem\n"
     ]
    }
   ],
   "source": [
    "a, b = map(int, input(\"Enter a b: \").split())\n",
    "\n",
    "if a == 0 and b != 0:\n",
    "    print(\"Vo nghiem\")\n",
    "elif a == b == 0:\n",
    "    print(\"Vo so nghiem\")\n",
    "else:\n",
    "    print(round(-b/a, 2))"
   ]
  },
  {
   "cell_type": "markdown",
   "id": "144cc9cf",
   "metadata": {},
   "source": [
    "# W3A15"
   ]
  },
  {
   "cell_type": "code",
   "execution_count": null,
   "id": "f5ec526a",
   "metadata": {},
   "outputs": [
    {
     "name": "stdout",
     "output_type": "stream",
     "text": [
      "Kha\n"
     ]
    }
   ],
   "source": [
    "ascore = float(input(\"Enter average score: \"))\n",
    "if ascore >= 8.0:\n",
    "    print(\"Gioi\")\n",
    "elif ascore >= 6.5:\n",
    "    print(\"Kha\")\n",
    "elif ascore >= 5.0:\n",
    "    print(\"Trung binh\")\n",
    "else:\n",
    "    print(\"Yeu\")"
   ]
  },
  {
   "cell_type": "markdown",
   "id": "da0e9ffc",
   "metadata": {},
   "source": [
    "# W3A16"
   ]
  },
  {
   "cell_type": "code",
   "execution_count": 55,
   "id": "1e1aa16f",
   "metadata": {},
   "outputs": [
    {
     "name": "stdout",
     "output_type": "stream",
     "text": [
      "1 0 1\n"
     ]
    }
   ],
   "source": [
    "a = float(input(\"Enter a: \"))\n",
    "\n",
    "nguyen = int(a)\n",
    "thap_phan = a - nguyen\n",
    "\n",
    "#UP\n",
    "if a >= 0:\n",
    "    if thap_phan != 0:\n",
    "        up = nguyen + 1\n",
    "    else:\n",
    "        up = nguyen\n",
    "else:\n",
    "    up = nguyen\n",
    "\n",
    "#DOWN\n",
    "if a >= 0:\n",
    "    down = nguyen\n",
    "else:\n",
    "    if thap_phan != 0:\n",
    "        down = nguyen - 1\n",
    "    else:\n",
    "        down = nguyen\n",
    "\n",
    "#NEAREST\n",
    "if a >= 0:\n",
    "    if thap_phan >= 0.5:\n",
    "        nearest = nguyen + 1\n",
    "    else:\n",
    "        nearest = nguyen\n",
    "else:\n",
    "    if abs(thap_phan) >= 0.5:\n",
    "        nearest = nguyen - 1\n",
    "    else:\n",
    "        nearest = nguyen   \n",
    "\n",
    "\n",
    "print(up, down, nearest)"
   ]
  },
  {
   "cell_type": "markdown",
   "id": "9c88285f",
   "metadata": {},
   "source": [
    "# W3A17"
   ]
  },
  {
   "cell_type": "code",
   "execution_count": 50,
   "id": "fafdb98a",
   "metadata": {},
   "outputs": [
    {
     "name": "stdout",
     "output_type": "stream",
     "text": [
      "Co\n"
     ]
    }
   ],
   "source": [
    "a, b, c, d = map(int, input(\"Enter a b c d: \").split())\n",
    "\n",
    "if b % a != 0:\n",
    "    print(\"Khong\")\n",
    "else:\n",
    "    cb = b/a\n",
    "    if b * cb == c and c * cb == d:\n",
    "        print(\"Co\")\n",
    "    else:\n",
    "        print(\"Khong\")"
   ]
  },
  {
   "cell_type": "markdown",
   "id": "45c92de5",
   "metadata": {},
   "source": [
    "# GIT CMD"
   ]
  },
  {
   "cell_type": "code",
   "execution_count": 54,
   "id": "a2fd6dda",
   "metadata": {},
   "outputs": [
    {
     "name": "stdout",
     "output_type": "stream",
     "text": [
      "On branch master\n",
      "Your branch is up to date with 'origin/master'.\n",
      "\n",
      "Untracked files:\n",
      "  (use \"git add <file>...\" to include in what will be committed)\n",
      "\t25023423_Phan Gia Vinh W4.ipynb\n",
      "\t25023423_Phan Gia Vinh W5.ipynb\n",
      "\n",
      "nothing added to commit but untracked files present (use \"git add\" to track)\n"
     ]
    }
   ],
   "source": [
    "! git status"
   ]
  },
  {
   "cell_type": "code",
   "execution_count": null,
   "id": "e5972873",
   "metadata": {},
   "outputs": [],
   "source": [
    "! git add .\n",
    "! git commit -m \"Bai tap 10/7\"\n",
    "! git push origin master"
   ]
  }
 ],
 "metadata": {
  "kernelspec": {
   "display_name": "Python 3",
   "language": "python",
   "name": "python3"
  },
  "language_info": {
   "codemirror_mode": {
    "name": "ipython",
    "version": 3
   },
   "file_extension": ".py",
   "mimetype": "text/x-python",
   "name": "python",
   "nbconvert_exporter": "python",
   "pygments_lexer": "ipython3",
   "version": "3.13.7"
  }
 },
 "nbformat": 4,
 "nbformat_minor": 5
}
