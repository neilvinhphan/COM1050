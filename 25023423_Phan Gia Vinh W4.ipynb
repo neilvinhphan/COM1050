{
  "cells": [
    {
      "cell_type": "markdown",
      "metadata": {
        "id": "7VixUJX78tL6"
      },
      "source": [
        "**Bài 1**: Viết chương trình kiểm tra năm nhuận:\n",
        "Quy tắc:\n",
        "- Chia hết cho 400 → năm nhuận\n",
        "- Chia hết cho 100 nhưng không chia hết cho 400 → không nhuận\n",
        "- Chia hết cho 4 nhưng không chia hết cho 100 → năm nhuận\n",
        "- Các trường hợp khác → không nhuận\n",
        "\n",
        "Test với: 2000, 1900, 2024, 2023"
      ]
    },
    {
      "cell_type": "code",
      "execution_count": 9,
      "metadata": {
        "id": "5x5w2Uq-8qX-"
      },
      "outputs": [
        {
          "name": "stdout",
          "output_type": "stream",
          "text": [
            "Nam kh nhuan\n"
          ]
        }
      ],
      "source": [
        "year = int(input(\"Nhập năm: \"))\n",
        "if year % 400 == 0:\n",
        "    print(\"Nam nhuan\")\n",
        "elif year % 100 == 0:\n",
        "    print(\"Nam kh nhuan\")\n",
        "elif year % 4 == 0:\n",
        "    print(\"Nam nhuan\")\n",
        "else:\n",
        "    print(\"Nam kh nhuan\")"
      ]
    },
    {
      "cell_type": "markdown",
      "metadata": {
        "id": "tHA1xgW88wlg"
      },
      "source": [
        "**Bài 2:** Viết chương trình máy tính:\n",
        "- Nhập 2 số a, b\n",
        "- Nhập phép toán (+, -, *, /)\n",
        "- In kết quả tương ứng\n",
        "- Với phép chia, kiểm tra b != 0\n",
        "- Nếu phép toán không hợp lệ, in \"Phép toán không hợp lệ\"\n",
        "\n",
        "Ví dụ:\n",
        "Nhập số thứ nhất: 10\n",
        "Nhập số thứ hai: 5\n",
        "Nhập phép toán (+, -, *, /): +\n",
        "Kết quả: 10 + 5 = 15"
      ]
    },
    {
      "cell_type": "code",
      "execution_count": 2,
      "metadata": {
        "id": "67EokWoP8-B4"
      },
      "outputs": [
        {
          "name": "stdout",
          "output_type": "stream",
          "text": [
            "0.8\n"
          ]
        }
      ],
      "source": [
        "a = float(input(\"Nhập số thứ nhất: \"))\n",
        "b = float(input(\"Nhập số thứ hai: \"))\n",
        "operator = input(\"Nhập phép toán (+, -, *, /): \")\n",
        "if operator == \"+\":\n",
        "    print(a+b)\n",
        "elif operator == \"-\":\n",
        "    print(a-b)\n",
        "elif operator == \"*\":\n",
        "    print(a*b)\n",
        "elif operator == \"/\":\n",
        "    if b != 0:\n",
        "        print(a/b)"
      ]
    },
    {
      "cell_type": "markdown",
      "metadata": {
        "id": "uwG9A5ED9AMB"
      },
      "source": [
        "**Bài 3** Viết chương trình kiểm tra năm nhuận:\n",
        "Quy tắc:\n",
        "- Chia hết cho 400 → năm nhuận\n",
        "- Chia hết cho 100 nhưng không chia hết cho 400 → không nhuận\n",
        "- Chia hết cho 4 nhưng không chia hết cho 100 → năm nhuận\n",
        "- Các trường hợp khác → không nhuận\n",
        "\n",
        "Test với: 2000, 1900, 2024, 2023"
      ]
    },
    {
      "cell_type": "code",
      "execution_count": null,
      "metadata": {
        "id": "8s1cFXyF9E8F"
      },
      "outputs": [],
      "source": [
        "year = int(input(\"Nhập năm: \"))\n",
        "if year % 400 == 0:\n",
        "    print(\"Nam nhuan\")\n",
        "elif year % 100 == 0:\n",
        "    print(\"Nam kh nhuan\")\n",
        "elif year % 4 == 0:\n",
        "    print(\"Nam nhuan\")\n",
        "else:\n",
        "    print(\"Nam kh nhuan\")\n"
      ]
    },
    {
      "cell_type": "markdown",
      "metadata": {
        "id": "MquX7aP49HzN"
      },
      "source": [
        "**Bài 4: ** Viết chương trình tính phí vận chuyển:\n",
        "- Nhập trọng lượng (kg)\n",
        "- Nhập khoảng cách (km)\n",
        "- Nhập có giao nhanh không (y/n)\n",
        "\n",
        "Phí cơ bản:\n",
        "- Dưới 1kg: 20,000đ\n",
        "- 1-5kg: 40,000đ\n",
        "- Trên 5kg: 60,000đ\n",
        "\n",
        "Phụ phí khoảng cách (nếu > 10km):\n",
        "- Mỗi km thêm: 2,000đ\n",
        "\n",
        "Phí giao nhanh (nếu chọn):\n",
        "- Cộng thêm 50%\n",
        "\n",
        "In ra chi tiết:\n",
        "- Phí cơ bản: ...\n",
        "- Phụ phí khoảng cách: ...\n",
        "- Phí giao nhanh: ...\n",
        "- Tổng cộng: ..."
      ]
    },
    {
      "cell_type": "code",
      "execution_count": 5,
      "metadata": {
        "id": "ydi0mMVR9PKi"
      },
      "outputs": [
        {
          "name": "stdout",
          "output_type": "stream",
          "text": [
            "Phi co ban: 40000\n",
            "Phu phi khoang cach: 2000.0\n",
            "Phi giao nhanh: 46500.0\n",
            "Tong cong: 93000.0\n"
          ]
        }
      ],
      "source": [
        "weight = float(input(\"Nhập trọng lượng (kg): \"))\n",
        "distance = float(input(\"Nhập khoảng cách (km): \"))\n",
        "express = input(\"Giao nhanh? (y/n): \")\n",
        "price = 0\n",
        "\n",
        "if distance <= 10:\n",
        "    if weight > 5:\n",
        "        price = 60000 + 60000/2\n",
        "        print(\"Phi co ban: 60000\")\n",
        "    elif weight >=1:\n",
        "        price = 40000 + 40000/2\n",
        "        print(\"Phi co ban: 40000\")\n",
        "    else:\n",
        "        price = 20000 + 20000/2\n",
        "        print(\"Phi co ban: 20000\")\n",
        "\n",
        "if distance > 10:\n",
        "    if weight > 5:\n",
        "        price = 60000 + 60000/2 + (distance-10)*2000\n",
        "        print(\"Phi co ban: 60000\")\n",
        "    elif weight >=1:\n",
        "        price = 40000 + 40000/2 + (distance-10)*2000\n",
        "        print(\"Phi co ban: 40000\")\n",
        "    else:\n",
        "        price = 20000 + 20000/2 + (distance-10)*2000\n",
        "        print(\"Phi co ban: 20000\")\n",
        "\n",
        "if express == \"y\":\n",
        "    price += price/2\n",
        "\n",
        "print(\"Phu phi khoang cach:\", (distance-10)*2000)\n",
        "print(\"Phi giao nhanh:\",price/2)\n",
        "print(\"Tong cong:\", price)"
      ]
    },
    {
      "cell_type": "markdown",
      "metadata": {
        "id": "wEYOXQSi9T_r"
      },
      "source": [
        "**Bài 5** Viết chương trình xếp hạng khách hàng:\n",
        "- Nhập tổng chi tiêu (VND)\n",
        "- Nhập số năm thành viên\n",
        "- Nhập số lần khiếu nại\n",
        "\n",
        "Quy tắc:\n",
        "1. Nếu khiếu nại >= 5: \"Đồng\"\n",
        "2. Nếu khiếu nại < 5:\n",
        "   - Chi tiêu >= 50tr:\n",
        "     * Năm >= 3: \"Bạch Kim\"\n",
        "     * Năm < 3: \"Vàng\"\n",
        "   - 20tr <= Chi tiêu < 50tr:\n",
        "     * Năm >= 2: \"Vàng\"\n",
        "     * Năm < 2: \"Bạc\"\n",
        "   - Chi tiêu < 20tr:\n",
        "     * Năm >= 1: \"Bạc\"\n",
        "     * Năm < 1: \"Đồng\"\n",
        "\n",
        "Test với nhiều trường hợp khác nhau"
      ]
    },
    {
      "cell_type": "code",
      "execution_count": 7,
      "metadata": {
        "id": "NIUl2zwu9TRB"
      },
      "outputs": [
        {
          "name": "stdout",
          "output_type": "stream",
          "text": [
            "Bach Kim\n"
          ]
        }
      ],
      "source": [
        "\n",
        "total_spent = float(input(\"Nhập tổng chi tiêu: \"))\n",
        "years = int(input(\"Nhập số năm thành viên: \"))\n",
        "complaints = int(input(\"Nhập số lần khiếu nại: \"))\n",
        "if complaints >= 5:\n",
        "    print(\"Dong\")\n",
        "else:\n",
        "    if total_spent >= 50:\n",
        "        if years >=3:\n",
        "            print(\"Bach Kim\")\n",
        "        else:\n",
        "            print(\"Vang\")\n",
        "    elif total_spent >= 20:\n",
        "        if years >=2:\n",
        "            print(\"Vang\")\n",
        "        else:\n",
        "            print(\"Bac\")\n",
        "    else:\n",
        "        if years >=1:\n",
        "            print(\"Bac\")\n",
        "        else:\n",
        "            print(\"Dong\")"
      ]
    },
    {
      "cell_type": "markdown",
      "metadata": {
        "id": "XPMHzc5I9fW6"
      },
      "source": [
        "**Bài 6:** Viết chương trình tính tiền điện theo bậc thang:\n",
        "- Bậc 1: 0-50 kWh: 1,678đ/kWh\n",
        "- Bậc 2: 51-100 kWh: 1,734đ/kWh\n",
        "- Bậc 3: 101-200 kWh: 2,014đ/kWh\n",
        "- Bậc 4: 201-300 kWh: 2,536đ/kWh\n",
        "- Bậc 5: 301-400 kWh: 2,834đ/kWh\n",
        "- Bậc 6: Trên 400 kWh: 2,927đ/kWh\n",
        "\n",
        "Input:\n",
        "- Chỉ số cũ\n",
        "- Chỉ số mới\n",
        "\n",
        "Output:\n",
        "- Điện tiêu thụ: ... kWh\n",
        "- Tiền bậc 1: ...\n",
        "- Tiền bậc 2: ...\n",
        "- ...\n",
        "- Tổng tiền (chưa VAT): ...\n",
        "- VAT (10%): ...\n",
        "- Tổng thanh toán: ..."
      ]
    },
    {
      "cell_type": "code",
      "execution_count": 8,
      "metadata": {
        "id": "SfvvboAR9jRF"
      },
      "outputs": [
        {
          "name": "stdout",
          "output_type": "stream",
          "text": [
            "500\n",
            "1156.7\n",
            "115.67000000000002\n",
            "1272.3700000000001\n"
          ]
        }
      ],
      "source": [
        "old_index = int(input(\"Chỉ số cũ: \"))\n",
        "new_index = int(input(\"Chỉ số mới: \"))\n",
        "\n",
        "Dientieuthu = new_index - old_index\n",
        "Tongtien = 0\n",
        "Tongthanhtoan = 0\n",
        "\n",
        "if Dientieuthu <= 50:\n",
        "    Tongtien += Dientieuthu*1.678\n",
        "elif Dientieuthu <= 100:\n",
        "    Tongtien += 50*1.678 + (Dientieuthu - 50)*1.734\n",
        "elif Dientieuthu <= 200:\n",
        "    Tongtien += 50*1.678 + 50*1.734 + (Dientieuthu - 100)*2.014\n",
        "elif Dientieuthu <= 300:\n",
        "    Tongtien += 50*1.678 + 50*1.734 + 100*2.014 + (Dientieuthu - 200)*2.536\n",
        "elif Dientieuthu <=400:\n",
        "    Tongtien += 50*1.678 + 50*1.734 + 100*2.014 + 100*2.536 + (Dientieuthu - 300)*2.834\n",
        "else:\n",
        "    Tongtien += 50*1.678 + 50*1.734 + 100*2.014 + 100*2.536 + 100*2.384 + (Dientieuthu - 400)*2.927\n",
        "\n",
        "VAT = Tongtien * 0.1\n",
        "Tongthanhtoan = VAT + Tongtien\n",
        "\n",
        "print(Dientieuthu)\n",
        "print(Tongtien)\n",
        "print(VAT)\n",
        "print(Tongthanhtoan)"
      ]
    },
    {
      "cell_type": "markdown",
      "metadata": {
        "id": "rMSvQiL49o57"
      },
      "source": [
        "**Bài 7:** Viết chương trình đặt vé xem phim:\n",
        "\n",
        "Input:\n",
        "- Tuổi khách hàng\n",
        "- Loại ghế (Standard/VIP/Couple)\n",
        "- Ngày xem (Weekday/Weekend)\n",
        "- Suất chiếu (Morning/Afternoon/Evening)\n",
        "- Có thẻ thành viên không (y/n)\n",
        "\n",
        "Giá vé cơ bản:\n",
        "- Standard: 45,000đ\n",
        "- VIP: 70,000đ\n",
        "- Couple: 150,000đ\n",
        "\n",
        "Điều chỉnh giá:\n",
        "1. Theo tuổi:\n",
        "   - Dưới 6 tuổi: Miễn phí\n",
        "   - 6-12 tuổi: -30%\n",
        "   - Trên 60 tuổi: -20%\n",
        "\n",
        "2. Theo ngày:\n",
        "   - Weekend: +20%\n",
        "\n",
        "3. Theo suất chiếu:\n",
        "   - Morning (trước 12h): -20%\n",
        "   - Evening (sau 18h): +10%\n",
        "\n",
        "4. Thẻ thành viên: -15%\n",
        "\n",
        "In ra hóa đơn chi tiết"
      ]
    },
    {
      "cell_type": "code",
      "execution_count": 10,
      "metadata": {
        "id": "qo3y0QOP9r6I"
      },
      "outputs": [
        {
          "name": "stdout",
          "output_type": "stream",
          "text": [
            "117810.0\n"
          ]
        }
      ],
      "source": [
        "age = int(input(\"Tuổi: \"))\n",
        "seat_type = input(\"Loại ghế (Standard/VIP/Couple): \")\n",
        "day_type = input(\"Ngày xem (Weekday/Weekend): \")\n",
        "show_time = input(\"Suất chiếu (Morning/Afternoon/Evening): \")\n",
        "member = input(\"Có thẻ thành viên? (y/n): \")\n",
        "\n",
        "price = 0\n",
        "\n",
        "if seat_type == \"Standard\":\n",
        "    price = 45000\n",
        "if seat_type == \"VIP\":\n",
        "    price = 70000\n",
        "if seat_type == \"Couple\":\n",
        "    price = 150000\n",
        "\n",
        "if age < 6:\n",
        "        price = 0\n",
        "elif age <= 12:\n",
        "        price = price*0.7\n",
        "elif age > 60:\n",
        "        price = price*0.8\n",
        "\n",
        "if day_type == \"Weekend\":\n",
        "        price = price*1.2\n",
        "\n",
        "if show_time == \"Morning\":\n",
        "        price = price*0.8\n",
        "elif show_time == \"Evening\":\n",
        "        price = price*1.1\n",
        "\n",
        "if member == \"y\":\n",
        "        price = price*0.85\n",
        "\n",
        "print(price)"
      ]
    },
    {
      "cell_type": "markdown",
      "metadata": {
        "id": "QSh3L9A79uFa"
      },
      "source": [
        "**Bài 8:**  Viết chương trình tính lương:\n",
        "\n",
        "Input:\n",
        "- Số giờ làm việc\n",
        "- Lương theo giờ\n",
        "- Loại ngày (weekday/weekend/holiday)\n",
        "- Đánh giá (poor/average/good/excellent)\n",
        "\n",
        "Quy tắc:\n",
        "1. Tính lương theo loại ngày:\n",
        "   - Weekday:\n",
        "     * 8 giờ đầu: x1.0\n",
        "     * Giờ 9-10: x1.5\n",
        "     * Từ giờ 11: x2.0\n",
        "   - Weekend: toàn bộ x1.5\n",
        "   - Holiday: toàn bộ x2.0\n",
        "\n",
        "2. Thưởng/phạt hiệu suất:\n",
        "   - poor: -10%\n",
        "   - average: 0%\n",
        "   - good: +10%\n",
        "   - excellent: +20%\n",
        "\n",
        "3. Thưởng chuyên cần:\n",
        "   - Làm >= 48 giờ: +500,000đ\n",
        "\n",
        "Output chi tiết:\n",
        "- Lương giờ hành chính: ...\n",
        "- Lương tăng ca: ...\n",
        "- Tổng lương cơ bản: ...\n",
        "- Điều chỉnh hiệu suất: ...\n",
        "- Thưởng chuyên cần: ...\n",
        "- Tổng lương: ..."
      ]
    },
    {
      "cell_type": "code",
      "execution_count": 6,
      "metadata": {
        "id": "W4MjY6Nj90ND"
      },
      "outputs": [
        {
          "name": "stdout",
          "output_type": "stream",
          "text": [
            "\n",
            "=== BẢNG LƯƠNG CHI TIẾT ===\n",
            "Lương giờ hành chính : 360000.0 đ\n",
            "Lương tăng ca        : 135000.0 đ\n",
            "Tổng lương cơ bản    : 544500.0 đ\n",
            "Điều chỉnh hiệu suất : 49500.0 đ\n",
            "Thưởng chuyên cần    : 0 đ\n",
            "==> Tổng lương       : 544500.0 đ\n"
          ]
        }
      ],
      "source": [
        "hours = float(input(\"Số giờ làm việc: \"))\n",
        "hourly_rate = float(input(\"Lương theo giờ: \"))\n",
        "day_type = input(\"Loại ngày (weekday/weekend/holiday): \")\n",
        "performance = input(\"Đánh giá (poor/average/good/excellent): \")\n",
        "\n",
        "hanh_chinh = 0\n",
        "tang_ca = 0\n",
        "co_ban = 0\n",
        "hieu_suat = 0\n",
        "chuyen_can = 0\n",
        "tong_luong = 0\n",
        "\n",
        "#Tính lương theo loại ngày\n",
        "if day_type == \"weekday\":\n",
        "    if hours >= 11:\n",
        "        hanh_chinh = 8*hourly_rate\n",
        "        tang_ca = 2*hourly_rate*1.5 + (hours - 10)*hourly_rate*2\n",
        "\n",
        "    elif hours >= 9:\n",
        "        hanh_chinh = 8*hourly_rate + (hours - 8)*hourly_rate*1.5\n",
        "        tang_ca = (hours - 8)*hourly_rate*1.5\n",
        "\n",
        "    else:\n",
        "        hanh_chinh = hours * hourly_rate\n",
        "\n",
        "elif day_type == \"weekend\":\n",
        "    if hours >= 11:\n",
        "        hanh_chinh = 8*hourly_rate*1.5 \n",
        "        tang_ca = 2*hourly_rate*1.5 + (hours - 10)*hourly_rate*1.5\n",
        "\n",
        "    elif hours >= 9:\n",
        "        hanh_chinh = 8*hourly_rate*1.5 \n",
        "        tang_ca = (hours - 8)*hourly_rate*1.5\n",
        "\n",
        "    else:\n",
        "        hanh_chinh = hours * hourly_rate * 1.5\n",
        "\n",
        "elif day_type == \"holiday\":\n",
        "    if hours >= 11:\n",
        "        hanh_chinh = 8*hourly_rate*2 \n",
        "        tang_ca =  2*hourly_rate*2 + (hours - 10)*hourly_rate*2\n",
        "    elif hours >= 9:\n",
        "        hanh_chinh = 8*hourly_rate*2 \n",
        "        tang_ca = (hours - 8)*hourly_rate*2\n",
        "    else:\n",
        "        hanh_chinh = hours * hourly_rate * 2\n",
        "\n",
        "co_ban = hanh_chinh + tang_ca\n",
        "\n",
        "#Thưởng/phạt hiệu suất\n",
        "if performance == \"poor\":\n",
        "    hieu_suat = co_ban*0.1\n",
        "    co_ban -= hieu_suat\n",
        "elif performance == \"good\":\n",
        "    hieu_suat = co_ban*0.1\n",
        "    co_ban += hieu_suat\n",
        "elif performance == \"excellent\":\n",
        "    hieu_suat = co_ban*0.2\n",
        "    co_ban += hieu_suat\n",
        "\n",
        "#Chuyên cần\n",
        "if hours >= 48:\n",
        "    chuyen_can += 500000\n",
        "\n",
        "tong_luong = co_ban +chuyen_can\n",
        "\n",
        "print(\"\\n=== BẢNG LƯƠNG CHI TIẾT ===\")\n",
        "print(f\"Lương giờ hành chính : {hanh_chinh} đ\")\n",
        "print(f\"Lương tăng ca        : {tang_ca} đ\")\n",
        "print(f\"Tổng lương cơ bản    : {co_ban} đ\")\n",
        "print(f\"Điều chỉnh hiệu suất : {hieu_suat} đ\")\n",
        "print(f\"Thưởng chuyên cần    : {chuyen_can} đ\")\n",
        "print(f\"==> Tổng lương       : {tong_luong} đ\")\n"
      ]
    },
    {
      "cell_type": "markdown",
      "metadata": {
        "id": "F-ISf2Ok95on"
      },
      "source": [
        "Bài 9: Chương trình sau có lỗi. Hãy:\n",
        "1. Thêm các dòng print để trace control flow\n",
        "2. Tìm và sửa lỗi\n",
        "3. Giải thích lỗi là gì?"
      ]
    },
    {
      "cell_type": "markdown",
      "metadata": {
        "id": "ffYY14CY-KLz"
      },
      "source": []
    },
    {
      "cell_type": "code",
      "execution_count": null,
      "metadata": {
        "id": "ZKwnx7V_973Y"
      },
      "outputs": [
        {
          "name": "stdout",
          "output_type": "stream",
          "text": [
            "before if\n",
            "inside if\n",
            "inside else - if\n",
            "before else\n",
            "Giá cuối: 90.0\n"
          ]
        }
      ],
      "source": [
        "price = float(input(\"Giá sản phẩm: \"))\n",
        "quantity = int(input(\"Số lượng: \"))\n",
        "customer_type = input(\"Loại khách (VIP/Regular): \")\n",
        "\n",
        "discount = 0\n",
        "print(\"before if\")\n",
        "if customer_type == \"VIP\":\n",
        "    print(\"inside if\")\n",
        "    if quantity > 10:\n",
        "        print(\"inside if - if\")\n",
        "        discount = 0.2\n",
        "    else:\n",
        "        print(\"inside else - if\")\n",
        "        discount = 0.1\n",
        "    print(\"before else\")\n",
        "elif customer_type == \"Regular\":\n",
        "    print(\"inside else\")\n",
        "    if quantity > 20:\n",
        "        print(\"inside if - else\")\n",
        "        discount = 0.15\n",
        "    else:\n",
        "        print(\"inside else - else\")\n",
        "        discount = 0.05\n",
        "\n",
        "# Lỗi ở đây!\n",
        "# Lỗi khi nhân trực tiếp với discount\n",
        "# Trong trường hợp này, ta phải nhân với (1-discount) thì mới ra giá cuối\n",
        "final_price = price * quantity * discount\n",
        "\n",
        "print(f\"Giá cuối: {final_price}\")"
      ]
    }
  ],
  "metadata": {
    "colab": {
      "provenance": []
    },
    "kernelspec": {
      "display_name": "Python 3",
      "name": "python3"
    },
    "language_info": {
      "codemirror_mode": {
        "name": "ipython",
        "version": 3
      },
      "file_extension": ".py",
      "mimetype": "text/x-python",
      "name": "python",
      "nbconvert_exporter": "python",
      "pygments_lexer": "ipython3",
      "version": "3.13.7"
    }
  },
  "nbformat": 4,
  "nbformat_minor": 0
}
