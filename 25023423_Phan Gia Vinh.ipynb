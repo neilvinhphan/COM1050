{
 "cells": [
  {
   "cell_type": "markdown",
   "id": "132e5413",
   "metadata": {},
   "source": [
    "Ex 1"
   ]
  },
  {
   "cell_type": "code",
   "execution_count": 1,
   "id": "3399c468",
   "metadata": {},
   "outputs": [
    {
     "name": "stdout",
     "output_type": "stream",
     "text": [
      "Number of words: 6\n"
     ]
    }
   ],
   "source": [
    "# Get input from the user\n",
    "sentence = input(\"Enter a sentence: \")\n",
    "\n",
    "# Split the sentence into words based on spaces\n",
    "words = sentence.split()\n",
    "\n",
    "# Count the number of words\n",
    "word_count = len(words)\n",
    "\n",
    "# Display the result\n",
    "print(\"Number of words:\", word_count)"
   ]
  },
  {
   "cell_type": "markdown",
   "id": "39a0b186",
   "metadata": {},
   "source": [
    "Ex 2"
   ]
  },
  {
   "cell_type": "markdown",
   "id": "4a09a309",
   "metadata": {},
   "source": [
    "🔹 Trường hợp 1\n",
    "1. Nguyên nhân lỗi\n",
    "\n",
    "Gặp số ≤ 0 thì code item / 0 → gây ZeroDivisionError.\n",
    "\n",
    "2. Giải pháp fix\n",
    "\n",
    "Thay vì cố tình chia 0, cần xử lý logic rõ ràng:\n",
    "\n",
    "Nếu item == 0 → bỏ qua hoặc trả về giá trị đặc biệt (vd: None).\n",
    "\n",
    "Nếu item < 0 → xử lý khác (vd: nhân 2 như số dương, hoặc giữ nguyên)."
   ]
  },
  {
   "cell_type": "code",
   "execution_count": 1,
   "id": "7f5aac50",
   "metadata": {},
   "outputs": [
    {
     "name": "stdout",
     "output_type": "stream",
     "text": [
      "[2, 2, 6, None, 5]\n",
      "[]\n",
      "[20, 1, None]\n"
     ]
    }
   ],
   "source": [
    "def process_data(data):\n",
    "    result = []\n",
    "    for item in data:\n",
    "        try:\n",
    "            if item > 0:\n",
    "                result.append(item * 2)\n",
    "            elif item < 0:\n",
    "                result.append(item * -1)  # Ví dụ: đổi dấu cho số âm\n",
    "            else:  # item == 0\n",
    "                result.append(None)  # hoặc giá trị đặc biệt\n",
    "        except Exception as e:\n",
    "            print(f\"Error processing item {item}: {e}\")\n",
    "            result.append(None)\n",
    "    return result\n",
    "\n",
    "print(process_data([1, -2, 3, 0, -5]))   # [2, 2, 6, None, 5]\n",
    "print(process_data([]))                  # []\n",
    "print(process_data([10, -1, 0]))         # [20, 1, None]\n"
   ]
  },
  {
   "cell_type": "markdown",
   "id": "464c0959",
   "metadata": {},
   "source": [
    "🔹 Trường hợp 2\n",
    "1. Nguyên nhân lỗi\n",
    "\n",
    "Biến max_num khởi tạo bằng 0. Nếu toàn bộ mảng là số âm → kết quả sai (0).\n",
    "\n",
    "2. Giải pháp fix\n",
    "\n",
    "Khởi tạo max_num bằng phần tử đầu tiên trong list.\n",
    "\n",
    "Thêm kiểm tra list rỗng."
   ]
  },
  {
   "cell_type": "code",
   "execution_count": 2,
   "id": "1c315b7d",
   "metadata": {},
   "outputs": [
    {
     "name": "stdout",
     "output_type": "stream",
     "text": [
      "-1\n",
      "9\n",
      "0\n",
      "Danh sách rỗng, không có giá trị lớn nhất.\n"
     ]
    }
   ],
   "source": [
    "def find_max_number(numbers):\n",
    "    if not numbers:\n",
    "        raise ValueError(\"Danh sách rỗng, không có giá trị lớn nhất.\")\n",
    "\n",
    "    max_num = numbers[0]\n",
    "    for num in numbers:\n",
    "        if num > max_num:\n",
    "            max_num = num\n",
    "    return max_num\n",
    "\n",
    "print(find_max_number([-5, -10, -2, -1]))   # -1\n",
    "print(find_max_number([3, 7, 1, 9]))        # 9\n",
    "print(find_max_number([0, 0, 0]))           # 0\n",
    "try:\n",
    "    print(find_max_number([]))              # Error\n",
    "except ValueError as e:\n",
    "    print(e)\n",
    "\n"
   ]
  },
  {
   "cell_type": "markdown",
   "id": "ea656ef5",
   "metadata": {},
   "source": [
    "🔹 Trường hợp 3\n",
    "1. Nguyên nhân lỗi\n",
    "\n",
    "scores[subject_index] có thể IndexError (nếu thiếu môn).\n",
    "\n",
    "scores chứa giá trị không hợp lệ (\"N/A\") → TypeError khi tính trung bình.\n",
    "\n",
    "scores có thể rỗng → ZeroDivisionError khi chia.\n",
    "\n",
    "calculate_grade thiếu case cho điểm < 80 → trả về None.\n",
    "\n",
    "2. Giải pháp fix\n",
    "\n",
    "Validate input:\n",
    "\n",
    "Nếu thiếu môn → gán None.\n",
    "\n",
    "Nếu có giá trị không phải số → bỏ qua khi tính trung bình.\n",
    "\n",
    "Nếu danh sách rỗng hoặc toàn invalid → average = None.\n",
    "\n",
    "Hoàn thiện calculate_grade."
   ]
  },
  {
   "cell_type": "code",
   "execution_count": 3,
   "id": "76d34ea7",
   "metadata": {},
   "outputs": [
    {
     "name": "stdout",
     "output_type": "stream",
     "text": [
      "[{'name': 'Alice', 'subject_score': 78, 'average': 84.33333333333333, 'grade': 'B'}, {'name': 'Bob', 'subject_score': None, 'average': 90.0, 'grade': 'A'}, {'name': 'Charlie', 'subject_score': 90, 'average': 87.5, 'grade': 'B'}, {'name': 'David', 'subject_score': None, 'average': None, 'grade': 'N/A'}]\n"
     ]
    }
   ],
   "source": [
    "def process_student_scores(students, subject_index):\n",
    "    results = []\n",
    "    for student in students:\n",
    "        try:\n",
    "            name = student[0]\n",
    "            scores = [s for s in student[1] if isinstance(s, (int, float))]\n",
    "            \n",
    "            # Xử lý subject_score\n",
    "            subject_score = None\n",
    "            if subject_index < len(student[1]) and isinstance(student[1][subject_index], (int, float)):\n",
    "                subject_score = student[1][subject_index]\n",
    "\n",
    "            # Tính average\n",
    "            if scores:\n",
    "                average = sum(scores) / len(scores)\n",
    "            else:\n",
    "                average = None\n",
    "\n",
    "            grade = calculate_grade(average) if average is not None else \"N/A\"\n",
    "\n",
    "            results.append({\n",
    "                'name': name,\n",
    "                'subject_score': subject_score,\n",
    "                'average': average,\n",
    "                'grade': grade\n",
    "            })\n",
    "        except Exception as e:\n",
    "            print(f\"Error processing student {student}: {e}\")\n",
    "            results.append({'name': student[0], 'error': str(e)})\n",
    "    return results\n",
    "\n",
    "def calculate_grade(score):\n",
    "    if score is None:\n",
    "        return \"N/A\"\n",
    "    elif score >= 90:\n",
    "        return 'A'\n",
    "    elif score >= 80:\n",
    "        return 'B'\n",
    "    elif score >= 70:\n",
    "        return 'C'\n",
    "    elif score >= 60:\n",
    "        return 'D'\n",
    "    else:\n",
    "        return 'F'\n",
    "\n",
    "students = [\n",
    "    ['Alice', [85, 90, 78]], \n",
    "    ['Bob', [92, 88]],                # thiếu môn\n",
    "    ['Charlie', ['N/A', 85, 90]],     # có string\n",
    "    ['David', []],                    # list rỗng\n",
    "]\n",
    "\n",
    "print(process_student_scores(students, 2))\n",
    "# Kết quả mong đợi:\n",
    "# [\n",
    "#   {'name': 'Alice', 'subject_score': 78, 'average': 84.33, 'grade': 'B'},\n",
    "#   {'name': 'Bob', 'subject_score': None, 'average': 90.0, 'grade': 'A'},\n",
    "#   {'name': 'Charlie', 'subject_score': 90, 'average': 87.5, 'grade': 'B'},\n",
    "#   {'name': 'David', 'subject_score': None, 'average': None, 'grade': 'N/A'}\n",
    "# ]\n",
    "\n"
   ]
  }
 ],
 "metadata": {
  "kernelspec": {
   "display_name": "Python 3",
   "language": "python",
   "name": "python3"
  },
  "language_info": {
   "codemirror_mode": {
    "name": "ipython",
    "version": 3
   },
   "file_extension": ".py",
   "mimetype": "text/x-python",
   "name": "python",
   "nbconvert_exporter": "python",
   "pygments_lexer": "ipython3",
   "version": "3.13.7"
  }
 },
 "nbformat": 4,
 "nbformat_minor": 5
}
