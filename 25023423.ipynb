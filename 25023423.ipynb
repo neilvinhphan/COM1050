{
 "cells": [
  {
   "cell_type": "markdown",
   "id": "03d296df",
   "metadata": {},
   "source": [
    "W2A1"
   ]
  },
  {
   "cell_type": "code",
   "execution_count": 42,
   "id": "2c2f9700",
   "metadata": {},
   "outputs": [
    {
     "name": "stdout",
     "output_type": "stream",
     "text": [
      "Hello World!\n"
     ]
    }
   ],
   "source": [
    "print(\"Hello World!\")"
   ]
  },
  {
   "cell_type": "markdown",
   "id": "f7ae3802",
   "metadata": {},
   "source": [
    "W2A2"
   ]
  },
  {
   "cell_type": "code",
   "execution_count": 43,
   "id": "44552a3e",
   "metadata": {},
   "outputs": [
    {
     "name": "stdout",
     "output_type": "stream",
     "text": [
      "Hello vinh\n"
     ]
    }
   ],
   "source": [
    "name = input(\"What's your name? \")\n",
    "print(\"Hello\", name)"
   ]
  },
  {
   "cell_type": "markdown",
   "id": "2504a413",
   "metadata": {},
   "source": [
    "W2A3"
   ]
  },
  {
   "cell_type": "code",
   "execution_count": 44,
   "id": "6945c90c",
   "metadata": {},
   "outputs": [
    {
     "name": "stdout",
     "output_type": "stream",
     "text": [
      "5 -1 6 0.67 0\n"
     ]
    }
   ],
   "source": [
    "a = int(input(\"Nhap a: \"))\n",
    "b = int(input(\"Nhap b: \"))\n",
    "print(a+b, a-b, a*b, round(a/b,2), a//b)"
   ]
  },
  {
   "cell_type": "markdown",
   "id": "0cd68a66",
   "metadata": {},
   "source": [
    "W2A4"
   ]
  },
  {
   "cell_type": "code",
   "execution_count": null,
   "id": "8b91e2b2",
   "metadata": {},
   "outputs": [],
   "source": [
    "a1, b1, c1, a2, b2, a3 = map(int, input(\"Enter 6 score types: \").split())\n",
    "TB = ((a1+b1+c1)+(a2+b2)*2+a3*3)/10\n",
    "print(TB)"
   ]
  },
  {
   "cell_type": "markdown",
   "id": "67df48c8",
   "metadata": {},
   "source": [
    "W2A5"
   ]
  },
  {
   "cell_type": "code",
   "execution_count": 57,
   "id": "5caaf1d5",
   "metadata": {},
   "outputs": [
    {
     "name": "stdout",
     "output_type": "stream",
     "text": [
      "8\n"
     ]
    }
   ],
   "source": [
    "a, b = map(int, input(\"Enter a b: \").split())\n",
    "print(a**b)"
   ]
  },
  {
   "cell_type": "markdown",
   "id": "0650db43",
   "metadata": {},
   "source": [
    "W2A6"
   ]
  },
  {
   "cell_type": "code",
   "execution_count": 6,
   "id": "3cd31a28",
   "metadata": {},
   "outputs": [
    {
     "name": "stdout",
     "output_type": "stream",
     "text": [
      "97\n",
      "A\n"
     ]
    }
   ],
   "source": [
    "print(ord(input()))\n",
    "print(a.upper())"
   ]
  },
  {
   "cell_type": "markdown",
   "id": "2369cbbd",
   "metadata": {},
   "source": [
    "W2A7"
   ]
  },
  {
   "cell_type": "code",
   "execution_count": 7,
   "id": "ff70a82a",
   "metadata": {},
   "outputs": [
    {
     "name": "stdout",
     "output_type": "stream",
     "text": [
      "512\n",
      "512\n"
     ]
    }
   ],
   "source": [
    "A = ((13 ** 2) * 3) + 5\n",
    "B = 13**2*3 + 5\n",
    "print(A)\n",
    "print(B)"
   ]
  },
  {
   "cell_type": "markdown",
   "id": "68bb6033",
   "metadata": {},
   "source": [
    "W2A8"
   ]
  },
  {
   "cell_type": "code",
   "execution_count": 9,
   "id": "18abe620",
   "metadata": {},
   "outputs": [
    {
     "name": "stdout",
     "output_type": "stream",
     "text": [
      "Fahrenheit type: 60.8\n"
     ]
    }
   ],
   "source": [
    "C = int(input(\"Enter Celsius type: \"))\n",
    "F = 9/5*C + 32\n",
    "print(\"Fahrenheit type:\", round(F, 2))"
   ]
  },
  {
   "cell_type": "markdown",
   "id": "202a20c3",
   "metadata": {},
   "source": [
    "W2A9"
   ]
  },
  {
   "cell_type": "code",
   "execution_count": 1,
   "id": "b007a367",
   "metadata": {},
   "outputs": [
    {
     "name": "stdout",
     "output_type": "stream",
     "text": [
      "150.0\n"
     ]
    }
   ],
   "source": [
    "x = int(input(\"Enter the price(USD): \"))\n",
    "last_price = x + 10 + (40/100)*x\n",
    "print(last_price)"
   ]
  },
  {
   "cell_type": "markdown",
   "id": "fd931831",
   "metadata": {},
   "source": [
    "W2A10"
   ]
  },
  {
   "cell_type": "code",
   "execution_count": 45,
   "id": "572a1649",
   "metadata": {},
   "outputs": [
    {
     "name": "stdout",
     "output_type": "stream",
     "text": [
      "Hi b, h and v\n"
     ]
    }
   ],
   "source": [
    "name = input(\"Enter 3 names: \").split(' ')\n",
    "name.reverse()\n",
    "print(f\"Hi {name[0]}, {name[1]} and {name[2]}\")"
   ]
  },
  {
   "cell_type": "markdown",
   "id": "f64a17d8",
   "metadata": {},
   "source": [
    "W2A11"
   ]
  },
  {
   "cell_type": "code",
   "execution_count": 3,
   "id": "9dc52cc0",
   "metadata": {},
   "outputs": [
    {
     "name": "stdout",
     "output_type": "stream",
     "text": [
      "11400\n"
     ]
    }
   ],
   "source": [
    "hours = int(input(\"Enter h: \"))\n",
    "minutes = int(input(\"Enter m: \"))\n",
    "print(hours*3600 + minutes*60)"
   ]
  },
  {
   "cell_type": "markdown",
   "id": "db76b666",
   "metadata": {},
   "source": [
    "W2A12"
   ]
  },
  {
   "cell_type": "code",
   "execution_count": 5,
   "id": "1faa6ab3",
   "metadata": {},
   "outputs": [
    {
     "name": "stdout",
     "output_type": "stream",
     "text": [
      "54\n"
     ]
    }
   ],
   "source": [
    "length = int(input(\"Enter the length of Cube: \"))\n",
    "print((length**2)*6)"
   ]
  },
  {
   "cell_type": "markdown",
   "id": "92806104",
   "metadata": {},
   "source": [
    "W2A13"
   ]
  },
  {
   "cell_type": "code",
   "execution_count": 15,
   "id": "0a14038f",
   "metadata": {},
   "outputs": [
    {
     "name": "stdout",
     "output_type": "stream",
     "text": [
      "3\n"
     ]
    }
   ],
   "source": [
    "a, b = map(int, input(\"Enter a, b (space to seperate): \").split())\n",
    "result = str(a*b/10).split(\".\")\n",
    "print(result[1])"
   ]
  },
  {
   "cell_type": "markdown",
   "id": "55252bed",
   "metadata": {},
   "source": [
    "W2A14"
   ]
  },
  {
   "cell_type": "code",
   "execution_count": null,
   "id": "f5fd4178",
   "metadata": {},
   "outputs": [
    {
     "name": "stdout",
     "output_type": "stream",
     "text": [
      "3 4\n",
      "4 3\n"
     ]
    }
   ],
   "source": [
    "a, b = map(int, input(\"Enter a, b (space to seperate): \").split())\n",
    "a, b = b, a\n",
    "print(a, b)"
   ]
  },
  {
   "cell_type": "markdown",
   "id": "c8786292",
   "metadata": {},
   "source": [
    "W2A15"
   ]
  },
  {
   "cell_type": "code",
   "execution_count": 1,
   "id": "658a3721",
   "metadata": {},
   "outputs": [
    {
     "name": "stdout",
     "output_type": "stream",
     "text": [
      "Số sao thứ 3 là: 37\n"
     ]
    }
   ],
   "source": [
    "n = int(input(\"Nhập số nguyên dương n: \"))\n",
    "result = (n**2)*6 - 6*n + 1\n",
    "print(f\"Số sao thứ {n} là: {result}\")"
   ]
  },
  {
   "cell_type": "markdown",
   "id": "89635d81",
   "metadata": {},
   "source": [
    "W2A16"
   ]
  },
  {
   "cell_type": "code",
   "execution_count": 46,
   "id": "9d169f67",
   "metadata": {},
   "outputs": [
    {
     "name": "stdout",
     "output_type": "stream",
     "text": [
      "Spring\n",
      "Summer\n",
      "Autumn\n",
      "Winter\n"
     ]
    }
   ],
   "source": [
    "print(\"Spring\\nSummer\\nAutumn\\nWinter\")"
   ]
  },
  {
   "cell_type": "markdown",
   "id": "baab86ae",
   "metadata": {},
   "source": [
    "W2A17"
   ]
  },
  {
   "cell_type": "code",
   "execution_count": 47,
   "id": "dbd80214",
   "metadata": {},
   "outputs": [
    {
     "name": "stdout",
     "output_type": "stream",
     "text": [
      " * \n",
      " *** \n",
      " ***** \n"
     ]
    }
   ],
   "source": [
    "print(\" * \")\n",
    "print(\" *** \")\n",
    "print(\" ***** \")"
   ]
  },
  {
   "cell_type": "markdown",
   "id": "9aa49dc1",
   "metadata": {},
   "source": [
    "W2A18"
   ]
  },
  {
   "cell_type": "code",
   "execution_count": 48,
   "id": "bde7476d",
   "metadata": {},
   "outputs": [
    {
     "name": "stdout",
     "output_type": "stream",
     "text": [
      " ### # #   ### ### \n",
      "  #  #  #   #   #  \n",
      "  #  #   #  #   #  \n",
      "  #  #  #   #   #  \n",
      "  #  # #    #   #  \n"
     ]
    }
   ],
   "source": [
    "print(\" ### # #   ### ### \")\n",
    "print(\"  #  #  #   #   #  \")\n",
    "print(\"  #  #   #  #   #  \")\n",
    "print(\"  #  #  #   #   #  \")\n",
    "print(\"  #  # #    #   #  \")"
   ]
  },
  {
   "cell_type": "markdown",
   "id": "adecb7cf",
   "metadata": {},
   "source": [
    "W2A19"
   ]
  },
  {
   "cell_type": "code",
   "execution_count": 49,
   "id": "a0ac859d",
   "metadata": {},
   "outputs": [
    {
     "name": "stdout",
     "output_type": "stream",
     "text": [
      "Monday\n",
      "Tuesday\n",
      "Wednesday\n",
      "Thursday\n",
      "Friday\n",
      "Saturday\n",
      "Sunday\n"
     ]
    }
   ],
   "source": [
    "print(\"Monday\\nTuesday\\nWednesday\\nThursday\\nFriday\\nSaturday\\nSunday\")"
   ]
  },
  {
   "cell_type": "markdown",
   "id": "7e3f275c",
   "metadata": {},
   "source": [
    "W2A20"
   ]
  },
  {
   "cell_type": "code",
   "execution_count": 50,
   "id": "d1b3a6bf",
   "metadata": {},
   "outputs": [
    {
     "name": "stdout",
     "output_type": "stream",
     "text": [
      "January\n",
      "February\n",
      "March\n",
      "April\n",
      "May\n",
      "June\n",
      "July\n",
      "August\n",
      "Septembe\n",
      "October\n",
      "November\n",
      "December\n"
     ]
    }
   ],
   "source": [
    "print(\"January\\nFebruary\\nMarch\\nApril\\nMay\\nJune\\nJuly\\nAugust\\nSeptembe\\nOctober\\nNovember\\nDecember\")"
   ]
  },
  {
   "cell_type": "markdown",
   "id": "1b30631a",
   "metadata": {},
   "source": [
    "W2A21"
   ]
  },
  {
   "cell_type": "code",
   "execution_count": 51,
   "id": "46cf74fa",
   "metadata": {},
   "outputs": [
    {
     "name": "stdout",
     "output_type": "stream",
     "text": [
      "Hello, world\n",
      "Hello, world\n",
      "Hello, world\n",
      "Hello, world\n",
      "Hello, world\n",
      "Hello, world\n",
      "Hello, world\n",
      "Hello, world\n",
      "Hello, world\n",
      "Hello, world\n"
     ]
    }
   ],
   "source": [
    "for i in range(10):\n",
    "    print(\"Hello, world\")"
   ]
  }
 ],
 "metadata": {
  "kernelspec": {
   "display_name": "Python 3",
   "language": "python",
   "name": "python3"
  },
  "language_info": {
   "codemirror_mode": {
    "name": "ipython",
    "version": 3
   },
   "file_extension": ".py",
   "mimetype": "text/x-python",
   "name": "python",
   "nbconvert_exporter": "python",
   "pygments_lexer": "ipython3",
   "version": "3.13.7"
  }
 },
 "nbformat": 4,
 "nbformat_minor": 5
}
