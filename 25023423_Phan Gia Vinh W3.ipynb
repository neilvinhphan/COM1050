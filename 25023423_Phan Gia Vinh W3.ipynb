{
 "cells": [
  {
   "cell_type": "markdown",
   "id": "03ae501e",
   "metadata": {},
   "source": [
    "# 1. Đánh giá học lực"
   ]
  },
  {
   "cell_type": "code",
   "execution_count": null,
   "id": "423d4a35",
   "metadata": {},
   "outputs": [
    {
     "name": "stdout",
     "output_type": "stream",
     "text": [
      "Kem\n"
     ]
    }
   ],
   "source": [
    "#Nhập các đầu điểm và đưa vào trong list 'scores'\n",
    "scores = map(float, (input(\"Enter scores: \")).split())\n",
    "\n",
    "#Khai báo các biến cần thiết\n",
    "TB = 0\n",
    "check = True\n",
    "\n",
    "#Loop tính điểm TB và check học lực kém\n",
    "for i in scores:\n",
    "    TB += i\n",
    "    result = round(TB/4, 2)\n",
    "    if i < 4:\n",
    "        print(\"Kem\")\n",
    "        check = False\n",
    "\n",
    "#Check các mức học lực khác\n",
    "if check == True:\n",
    "    if 4 <= result < 5.5:\n",
    "        print(\"Yeu\")\n",
    "    elif 5.5 <= result < 7.0:\n",
    "        print(\"Trung binh\")\n",
    "    elif 7.0 <= result < 8.5:\n",
    "        print(\"Kha\")\n",
    "    elif 8.5 <= result < 9.0:\n",
    "        print(\"Gioi\")\n",
    "    else:\n",
    "        print(\"Xuat sac\")\n",
    "\n",
    "    \n"
   ]
  },
  {
   "cell_type": "markdown",
   "id": "70002693",
   "metadata": {},
   "source": [
    "# 2. BMI và phân loại"
   ]
  },
  {
   "cell_type": "code",
   "execution_count": null,
   "id": "7e4878a4",
   "metadata": {},
   "outputs": [
    {
     "name": "stdout",
     "output_type": "stream",
     "text": [
      "Beo phi\n"
     ]
    }
   ],
   "source": [
    "#Nhập các thông số\n",
    "height = float(input(\"Enter your height(m): \"))\n",
    "weight = float(input(\"Enter your weight(kg): \"))\n",
    "\n",
    "#Tính chỉ số BMI\n",
    "BMI = weight/(height)**2\n",
    "\n",
    "#Check tình trạng\n",
    "if BMI >= 30:\n",
    "    print(\"Beo phi\")\n",
    "elif 25 <= BMI < 30:\n",
    "    print(\"Thua can\")\n",
    "elif 18.5 <= BMI <25:\n",
    "    print(\"Binh thuong\")\n",
    "else:\n",
    "    print(\"Thieu can\")"
   ]
  },
  {
   "cell_type": "markdown",
   "id": "4570f83e",
   "metadata": {},
   "source": [
    "# 3. Hệ thống thu ngân"
   ]
  },
  {
   "cell_type": "code",
   "execution_count": 33,
   "id": "9ca73982",
   "metadata": {},
   "outputs": [
    {
     "name": "stdout",
     "output_type": "stream",
     "text": [
      "115.2\n"
     ]
    }
   ],
   "source": [
    "a = []\n",
    "\n",
    "total = 0\n",
    "\n",
    "n = int(input(\"Enter the number of goods: \"))\n",
    "\n",
    "\n",
    "for _ in range(n):\n",
    "    d = {}\n",
    "    name = \"name of good\" \n",
    "    d[name] = input(\"Enter the name of good\")\n",
    "\n",
    "    qty = \"quanity of good\"\n",
    "    d[qty] = float(input(\"Enter the quanity of good: \"))\n",
    "\n",
    "    price = \"price of good\"\n",
    "    d[price] = float(input(\"Enter the price of good: \"))\n",
    "\n",
    "    a.append(d)\n",
    "\n",
    "for item in a:\n",
    "    amount = item[qty] * item[price]\n",
    "    total += amount\n",
    "\n",
    "if 50 <= total < 100:\n",
    "    total = total - total/20\n",
    "elif total >= 100:\n",
    "    total = total - total/10\n",
    "print(total)"
   ]
  }
 ],
 "metadata": {
  "kernelspec": {
   "display_name": "Python 3",
   "language": "python",
   "name": "python3"
  },
  "language_info": {
   "codemirror_mode": {
    "name": "ipython",
    "version": 3
   },
   "file_extension": ".py",
   "mimetype": "text/x-python",
   "name": "python",
   "nbconvert_exporter": "python",
   "pygments_lexer": "ipython3",
   "version": "3.13.7"
  }
 },
 "nbformat": 4,
 "nbformat_minor": 5
}
