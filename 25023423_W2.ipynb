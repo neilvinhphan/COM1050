{
 "cells": [
  {
   "cell_type": "markdown",
   "id": "3989aba3",
   "metadata": {},
   "source": [
    "# 1. Convert 42 minutes 42 seconds to seconds"
   ]
  },
  {
   "cell_type": "code",
   "execution_count": 3,
   "id": "56b1ae7c",
   "metadata": {},
   "outputs": [
    {
     "name": "stdout",
     "output_type": "stream",
     "text": [
      "42 minutes 42 seconds = 2562 seconds\n"
     ]
    }
   ],
   "source": [
    "print(\"42 minutes 42 seconds =\", 42*60+42,\"seconds\")"
   ]
  },
  {
   "cell_type": "markdown",
   "id": "284f0eed",
   "metadata": {},
   "source": [
    "# 2. Convert 10 kilometers to miles"
   ]
  },
  {
   "cell_type": "code",
   "execution_count": 7,
   "id": "a04d485c",
   "metadata": {},
   "outputs": [
    {
     "name": "stdout",
     "output_type": "stream",
     "text": [
      "10 kilometers = 6.21 miles\n"
     ]
    }
   ],
   "source": [
    "print(\"10 kilometers =\", round(10/1.61,2),\"miles\")"
   ]
  },
  {
   "cell_type": "markdown",
   "id": "0f367dd3",
   "metadata": {},
   "source": [
    "# 3. Calculate average pace in seconds per mile"
   ]
  },
  {
   "cell_type": "code",
   "execution_count": 6,
   "id": "314ccb1a",
   "metadata": {},
   "outputs": [
    {
     "name": "stdout",
     "output_type": "stream",
     "text": [
      "Average pace: 412.48\n"
     ]
    }
   ],
   "source": [
    "miles = 10/1.61\n",
    "seconds = 42*60 + 42\n",
    "print(\"Average pace:\", round(seconds/miles,2))"
   ]
  },
  {
   "cell_type": "markdown",
   "id": "474c5253",
   "metadata": {},
   "source": [
    "# 4.  Caculate average pace in minutes and seconds per mile"
   ]
  },
  {
   "cell_type": "code",
   "execution_count": 4,
   "id": "e157526b",
   "metadata": {},
   "outputs": [
    {
     "name": "stdout",
     "output_type": "stream",
     "text": [
      "Average pace: 6.87 minutes 2.99 seconds\n"
     ]
    }
   ],
   "source": [
    "miles = 10/1.61\n",
    "seconds = 42*60 + 42\n",
    "minutes_pace = round(((seconds//miles)/60),2)\n",
    "seconds_pace = round(seconds%miles, 2)\n",
    "print(f\"Average pace: {minutes_pace} minutes {seconds_pace} seconds\")"
   ]
  },
  {
   "cell_type": "markdown",
   "id": "5b26efff",
   "metadata": {},
   "source": [
    "# 5. Calculate average speed in miles per hour"
   ]
  },
  {
   "cell_type": "code",
   "execution_count": 5,
   "id": "1c262939",
   "metadata": {},
   "outputs": [
    {
     "name": "stdout",
     "output_type": "stream",
     "text": [
      "Average speed per hours: 8.73 miles/hours\n"
     ]
    }
   ],
   "source": [
    "miles = 10/1.61\n",
    "hours = (42*60 + 42)/3600\n",
    "print(\"Average speed per hours:\", round(miles/hours,2),\"miles/hours\")"
   ]
  }
 ],
 "metadata": {
  "kernelspec": {
   "display_name": "Python 3",
   "language": "python",
   "name": "python3"
  },
  "language_info": {
   "codemirror_mode": {
    "name": "ipython",
    "version": 3
   },
   "file_extension": ".py",
   "mimetype": "text/x-python",
   "name": "python",
   "nbconvert_exporter": "python",
   "pygments_lexer": "ipython3",
   "version": "3.13.7"
  }
 },
 "nbformat": 4,
 "nbformat_minor": 5
}
